{
  "nbformat": 4,
  "nbformat_minor": 0,
  "metadata": {
    "colab": {
      "name": "1 - Pre-Processamento das imagens.ipynb",
      "provenance": [],
      "include_colab_link": true
    },
    "kernelspec": {
      "name": "python3",
      "display_name": "Python 3"
    },
    "language_info": {
      "name": "python"
    },
    "accelerator": "GPU"
  },
  "cells": [
    {
      "cell_type": "markdown",
      "metadata": {
        "id": "view-in-github",
        "colab_type": "text"
      },
      "source": [
        "<a href=\"https://colab.research.google.com/github/antoniodragoc/Projeto-de-Graduacao-Antonio-Drago-Caetano/blob/main/1_Pre_Processamento_das_imagens.ipynb\" target=\"_parent\"><img src=\"https://colab.research.google.com/assets/colab-badge.svg\" alt=\"Open In Colab\"/></a>"
      ]
    },
    {
      "cell_type": "markdown",
      "source": [
        "# Bibliotecas\n"
      ],
      "metadata": {
        "id": "WHIhgE7qdJZE"
      }
    },
    {
      "cell_type": "code",
      "source": [
        "import pandas as pd\n",
        "import numpy as np \n",
        "import matplotlib.pyplot as plt\n",
        "import glob\n",
        "import collections\n",
        "import cv2\n",
        "import scipy"
      ],
      "metadata": {
        "id": "1K5mdtLNSzZ-"
      },
      "execution_count": null,
      "outputs": []
    },
    {
      "cell_type": "code",
      "source": [
        "from google.colab import drive\n",
        "drive.mount('/content/drive')"
      ],
      "metadata": {
        "colab": {
          "base_uri": "https://localhost:8080/"
        },
        "id": "_sDDTdUa7kmE",
        "outputId": "16f29ebe-ed22-4b7f-c42b-0a2b697f6cb1"
      },
      "execution_count": null,
      "outputs": [
        {
          "output_type": "stream",
          "name": "stdout",
          "text": [
            "Drive already mounted at /content/drive; to attempt to forcibly remount, call drive.mount(\"/content/drive\", force_remount=True).\n"
          ]
        }
      ]
    },
    {
      "cell_type": "markdown",
      "source": [
        "# Pré-Processamento"
      ],
      "metadata": {
        "id": "HWAZecXDdH95"
      }
    },
    {
      "cell_type": "code",
      "source": [
        "path_train = '/content/drive/MyDrive/PG/dados/'\n",
        "path_train2 = '/content/drive/MyDrive/PG/dados100/'\n",
        "\n",
        "X_train = []\n",
        "y_train = []\n",
        "X_traint = []"
      ],
      "metadata": {
        "id": "_UhSYWSgcCxW"
      },
      "execution_count": null,
      "outputs": []
    },
    {
      "cell_type": "code",
      "source": [
        "# 1\n",
        "j = 1\n",
        "pasta = 'benign'\n",
        "path_train = '/content/drive/MyDrive/PG/dados/benign'\n",
        "for i in glob.glob(path_train+'/*.png'):\n",
        "\n",
        "    #https://pythonexamples.org/python-opencv-cv2-resize-image/\n",
        "\n",
        "    src = cv2.imread(i)\n",
        "\n",
        "    # dsize\n",
        "    dsize = (399, 299)\n",
        "\n",
        "    # resize image\n",
        "    output = cv2.resize(src, dsize)\n",
        "\n",
        "    # crop image\n",
        "    output1 = output[:, 50:399-50]\n",
        "\n",
        "    X_train.append(output1)\n",
        "    \n",
        "    # pasta output\n",
        "    prefixo = 'b'\n",
        "    p = path_train2+prefixo+str(j).rjust(3,\"0\")+\".png\"\n",
        "    #print(p)\n",
        "    \n",
        "    # Salvando em PNG\n",
        "    cv2.imwrite(p, output1)\n",
        "    #print(plt.show(output))\n",
        "    j = j + 1 \n",
        "    "
      ],
      "metadata": {
        "id": "kEtohoyBcCux"
      },
      "execution_count": null,
      "outputs": []
    },
    {
      "cell_type": "code",
      "source": [
        "# 2\n",
        "j = 1\n",
        "pasta = 'insitu/'\n",
        "path_train = '/content/drive/MyDrive/PG/dados/insitu'\n",
        "for i in glob.glob(path_train+'/*.png'):\n",
        "\n",
        "    #https://pythonexamples.org/python-opencv-cv2-resize-image/\n",
        "\n",
        "    src = cv2.imread(i)\n",
        "\n",
        "    # dsize\n",
        "    dsize = (399, 299)\n",
        "\n",
        "    # resize image\n",
        "    output = cv2.resize(src, dsize)\n",
        "\n",
        "    # crop image\n",
        "    output1 = output[:, 50:399-50]\n",
        "    \n",
        "    X_train.append(output1)\n",
        "\n",
        "    # pasta output\n",
        "    prefixo = 'is'\n",
        "    p = path_train2+pasta+prefixo+str(j).rjust(3,\"0\")+\".png\"\n",
        "\n",
        "    # Salvando em PNG\n",
        "    cv2.imwrite(p, output1)\n",
        "    j = j + 1 \n",
        "\n",
        "    "
      ],
      "metadata": {
        "id": "et2QZtnLcCf9"
      },
      "execution_count": null,
      "outputs": []
    },
    {
      "cell_type": "code",
      "source": [
        "# 3\n",
        "j = 1\n",
        "pasta = 'invasive/'\n",
        "path_train = '/content/drive/MyDrive/PG/dados/invasive'\n",
        "for i in glob.glob(path_train+'/*.png'):\n",
        "\n",
        "    #https://pythonexamples.org/python-opencv-cv2-resize-image/\n",
        "\n",
        "    src = cv2.imread(i)\n",
        "\n",
        "    # dsize\n",
        "    dsize = (399, 299)\n",
        "\n",
        "    # resize image\n",
        "    output = cv2.resize(src, dsize)\n",
        "\n",
        "    # crop image\n",
        "    output1 = output[:, 50:399-50]\n",
        "\n",
        "    X_train.append(output1)\n",
        "        \n",
        "    # pasta output\n",
        "    prefixo = 'iv'\n",
        "    p = path_train2+pasta+prefixo+str(j).rjust(3,\"0\")+\".png\"\n",
        "\n",
        "    # Salvando em PNG\n",
        "    cv2.imwrite(p, output1)\n",
        "    j = j + 1 "
      ],
      "metadata": {
        "id": "KLl411v9cBvA"
      },
      "execution_count": null,
      "outputs": []
    },
    {
      "cell_type": "code",
      "source": [
        "# 4\n",
        "j = 1\n",
        "pasta = 'normal/'\n",
        "path_train = '/content/drive/MyDrive/PG/dados/normal'\n",
        "for i in glob.glob(path_train+'/*.png'):\n",
        "\n",
        "    #https://pythonexamples.org/python-opencv-cv2-resize-image/\n",
        "\n",
        "    src = cv2.imread(i)\n",
        "\n",
        "    # dsize\n",
        "    dsize = (399, 299)\n",
        "\n",
        "    # resize image\n",
        "    output = cv2.resize(src, dsize)\n",
        "\n",
        "    # crop image\n",
        "    output1 = output[:, 50:399-50]\n",
        "\n",
        "    X_train.append(output1)\n",
        "\n",
        "        # Criando o caminho de saída \n",
        "    prefixo = 'n'\n",
        "    p = path_train2+pasta+prefixo+str(j).rjust(3,\"0\")+\".png\"\n",
        "    #print(p)\n",
        "\n",
        "    # Salvando em PNG\n",
        "    cv2.imwrite(p, output1)\n",
        "    j = j + 1 \n",
        "    \n",
        "    \n",
        "counter=collections.Counter(y_train)\n",
        "\n",
        "print(counter)\n"
      ],
      "metadata": {
        "id": "YtILIxlGX4kN"
      },
      "execution_count": null,
      "outputs": []
    },
    {
      "cell_type": "code",
      "source": [
        ""
      ],
      "metadata": {
        "id": "nkh_cZ3jqroo"
      },
      "execution_count": null,
      "outputs": []
    }
  ]
}